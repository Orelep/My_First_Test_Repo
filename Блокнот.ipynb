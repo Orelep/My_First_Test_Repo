{
  "nbformat": 4,
  "nbformat_minor": 0,
  "metadata": {
    "colab": {
      "provenance": [],
      "toc_visible": true,
      "authorship_tag": "ABX9TyMUlU4x9BSQBHbWzWvi3cP0",
      "include_colab_link": true
    },
    "kernelspec": {
      "name": "python3",
      "display_name": "Python 3"
    },
    "language_info": {
      "name": "python"
    }
  },
  "cells": [
    {
      "cell_type": "markdown",
      "metadata": {
        "id": "view-in-github",
        "colab_type": "text"
      },
      "source": [
        "<a href=\"https://colab.research.google.com/github/Orelep/My_First_Test_Repo/blob/main/%D0%91%D0%BB%D0%BE%D0%BA%D0%BD%D0%BE%D1%82.ipynb\" target=\"_parent\"><img src=\"https://colab.research.google.com/assets/colab-badge.svg\" alt=\"Open In Colab\"/></a>"
      ]
    },
    {
      "cell_type": "markdown",
      "source": [
        "# Лабораторная работа №1\n",
        "Список бригады:\n",
        "1. Орлов Егор\n",
        "2. Колесников Никита\n",
        "3. Глазовский Рома\n",
        "\n",
        "|Член бригады|Группа|\n",
        "|-----------|-----------|\n",
        "|Орлов Егор|Эн1-32|\n",
        "|Глазовский Рома|Эн1-31|\n",
        "|Колесников Никита|Эн1-31|\n",
        "\n",
        "![](https://raw.githubusercontent.com/rit-hub/public_logo_png_img/main/skill/colab.png)\n",
        "\n",
        "[Шпаргалка по Colaboratory](https://skine.ru/articles/246184/)"
      ],
      "metadata": {
        "id": "1a4YOScNvgcJ"
      }
    },
    {
      "cell_type": "code",
      "execution_count": null,
      "metadata": {
        "id": "H4GhjfOK1B90"
      },
      "outputs": [],
      "source": []
    }
  ]
}